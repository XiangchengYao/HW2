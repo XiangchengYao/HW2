{
 "cells": [
  {
   "cell_type": "markdown",
   "id": "905a8bbc-00b5-4e31-aecc-8635cd833c38",
   "metadata": {
    "jp-MarkdownHeadingCollapsed": true
   },
   "source": [
    "# 1."
   ]
  },
  {
   "cell_type": "markdown",
   "id": "c4ad1413-7cde-4b4b-b1e7-96ccc828bd5e",
   "metadata": {},
   "source": [
    "1. import numpy as np: This line of code imports the NumPy library and names it np. The NumPy library provides functions for working with arrays and performing random selections, which will be used later in the code.\n",
    "\n",
    "2. all_door_options = (1,2,3) # tuple: this line of code creates a tuple called all_door_options, which contains the numbers 1, 2, and 3. this tuple represents the three doors in the Monty Hall problem. \n",
    "   \r",
    "33. my_door_choice = 1 # 1,2,3: This line of code initializes the variable my_door_choice to the value 1, which represents the number of the door you selected at the start of the game. You can change it to 2 or 3 to simulate different initial choices\n",
    "   .4\n",
    "4. i_won = 0: This line of code initializes a counter called i_won that keeps track of how many times you have won in the simulation. It is initially set to \n",
    "   05\r\n",
    "5. reps = 100000: This line of code sets the number of reps for the simulation to 100000. the higher this value, the more accurate the simulation will \n",
    "\n",
    "6. for i in range(reps):: This line of code starts a loop that will run reps times (in this case, 100000 times). Each iteration simulates a round of the Monty Hall problem.\r\n",
    "\r\n",
    "7. i_won/reps: This line of code calculates and prints the ratio of the number of times you won the simulation (i_won) to the total number of simulations (reps). This gives you an estimate of the long term probability of winning using the “swap strategyion)sion)"
   ]
  },
  {
   "cell_type": "markdown",
   "id": "5eb78df4-c427-4de3-86fd-93b9648bfb99",
   "metadata": {
    "jp-MarkdownHeadingCollapsed": true
   },
   "source": [
    "# 2."
   ]
  },
  {
   "cell_type": "markdown",
   "id": "c337e70a-3b66-4771-b80f-21502ed24d67",
   "metadata": {},
   "source": [
    "1. Simplify the selection of “goat doors”: Instead of removing secret_winning_door from the list and then adding it back in some cases, you can use the np.random.choice() function to select “goat doors” directly from the remaining valid choices. Instead, you can use the np.random.choice() function to select Goat Door directly from the remaining valid choices.\n",
    "\r",
    "22. Using Boolean Indexes to Update Choices: You can use Boolean indexes (a list of True or False values) to update your choices more efficiently without having to iterate through the list and remove elements\n",
    "\n",
    "3. The chatbot’s suggested code improvements enhance both readability and efficiency. The revised code is more concise and uses advanced techniques to simplify the process. However, the original code might be easier for beginners to understand, as it demonstrates each step in a more explicit, step-by-step manner.."
   ]
  },
  {
   "cell_type": "markdown",
   "id": "02b59731-0fb7-4345-bd14-571b10dc584c",
   "metadata": {
    "jp-MarkdownHeadingCollapsed": true
   },
   "source": [
    "# 3."
   ]
  },
  {
   "cell_type": "code",
   "execution_count": 11,
   "id": "b1fefef6-8929-4cf9-9378-5b991adc99be",
   "metadata": {},
   "outputs": [
    {
     "name": "stdout",
     "output_type": "stream",
     "text": [
      "Probability of winning:  0.66868\n"
     ]
    }
   ],
   "source": [
    "import numpy as np\n",
    "\n",
    "# Define all possible doors\n",
    "all_door_options = (1, 2, 3)  \n",
    "# Set the number of simulations\n",
    "reps = 100000\n",
    "# Initialize the number of wins\n",
    "i_won = 0\n",
    "\n",
    "# Run multiple simulations\n",
    "for i in range(reps):\n",
    "    # Randomly select winning door\n",
    "    secret_winning_door = np.random.choice(all_door_options)\n",
    "    # Players choose a door at random\n",
    "    my_door_choice = np.random.choice(all_door_options)\n",
    "\n",
    "    # The moderator opens a door that is not the winning door and not the player's choice\n",
    "    goat_door_reveal = np.random.choice([door for door in all_door_options if door != secret_winning_door and door != my_door_choice])\n",
    "\n",
    "    # Players swap choices to another unopened door\n",
    "    my_door_choice = [door for door in all_door_options if door != goat_door_reveal and door != my_door_choice]\n",
    "\n",
    "    # Check if the player has won\n",
    "    if my_door_choice == secret_winning_door:\n",
    "        i_won += 1\n",
    "\n",
    "# Print the probability of winning\n",
    "print(\"Probability of winning: \", i_won / reps)"
   ]
  },
  {
   "cell_type": "markdown",
   "id": "5097c222-d248-4e98-b75d-3cd32b4c1926",
   "metadata": {
    "jp-MarkdownHeadingCollapsed": true
   },
   "source": [
    "# 4."
   ]
  },
  {
   "cell_type": "markdown",
   "id": "554b7445-7d86-444b-9f3f-a7fa5a169a31",
   "metadata": {},
   "source": [
    "This code walks through the input text and builds two dictionaries:\n",
    "\r\n",
    "word_used: Stores each unique word and its number of occurrence\n",
    "\n",
    ".\r\n",
    "next_word: Stores each word followed by each unique word and the number of times it occr\n",
    "\n",
    "s.\r\n",
    "These dictionaries can then be used to generate new text based on the probability of words appearing in the input te文本."
   ]
  },
  {
   "cell_type": "markdown",
   "id": "69cb8740-3b9e-4e4f-96fd-1e3b57d5354e",
   "metadata": {
    "jp-MarkdownHeadingCollapsed": true
   },
   "source": [
    "# 5."
   ]
  },
  {
   "cell_type": "markdown",
   "id": "ac29c067-cbb7-4fe3-80e4-feb287efebba",
   "metadata": {},
   "source": [
    "1. The ChatBot can understand the extensions in the code, they are:\n",
    "\n",
    "Making role-specific Markov chains: The code in extension #2 implements the ability to generate Markov chains by role. It identifies characters through the Characters object and uses nested dictionaries word_used2C and next_word2C to store the frequency of words spoken by each character and the frequency of subsequent words, respectively.\n",
    "\n",
    "Using binary phrase dependencies: Extensions #1 and #2 both use binary phrase (bigram) to build Markov chains. This means that when predicting the next word, the chatbot will not only consider the previous word, but also the combination of the first two words.\n",
    "\n",
    "2. Markovian Chatbot extension #1 This code creates a Markov chain based on binary phrases (bigram) to simulate more natural language patterns.\r\n",
    "\r\n",
    "Bigram: Instead of only considering the previous word, the binary phrase model considers the combination of the first two words, providing richer contextual information for predicting the next word. For example, in the sentence \"I like to eat apples,\" \"I like\" is a binary phrase that is better at predicting that the next word is likely to be \"eat\" than \"like\" alone.\r\n",
    "\r\n",
    "word_used2: This dictionary is used to store the number of occurrences of each binary phrase in the text. Each time a binary phrase is encountered, the code adds it to the dictionary (if it doesn't already exist) and increases its count by one.\r\n",
    "\r\n",
    "next_word2: This is a nested dictionary that stores the words followed by each binary phrase and the number of occurrences. For example, if the binary phrase is \"I like\" and it is followed by the word \"eat\" 3 times, then the value of next_word2[\" I like \"][\" eat \"] would\n",
    "\n",
    "The Markovian Chatbot extension #2, which creates a Markov chain based on characters and binary phrases, enables the chatbot to simulate the language styles of different characters.\r\n",
    "\r\n",
    "Role-specific Markov chains: This code implements role-specific language models by identifying different roles in the text and building Markov chains for each role separately.\r\n",
    "\r\n",
    "characters: This is a Counter object that stores the number of times each character appears in the text. This can be used to identify the main characters in the text.\r\n",
    "\r\n",
    "word_used2C and next_word2C: These are nested dictionaries, similar to those in extension #1, but they now store information by role. For example, word_used2C[\" Role A\"][\" hello \"] stores the number of times role A says the word \"h\n",
    "\n",
    "3. The ChatBot can understand the extensions in the code:\n",
    "This code builds on the base version and introduces two major enhancements:\r\n",
    "(1)1. Character-specific Markov Chains: ** This extension allows chatbots to track the speaking patterns of different characters. It does this by creating a nested dictionary word_used2C and next_word2C, where the key is the role name and the value is a dictionary with a structure similar to the dictionary used in the base version.(\r",
    ")\r\n",
    "2. Binary dependencies: ** In addition to tracking only the previous word, this extension also takes into account the first two words to predict the next word. This is achieved by storing word pairs and their corresponding frequencies for the next word, creating the possibility for more complex and context-sensitive responses.ello\". be 3."
   ]
  },
  {
   "cell_type": "markdown",
   "id": "ea0888d2-c2ab-4036-9d5b-285a18238563",
   "metadata": {
    "jp-MarkdownHeadingCollapsed": true
   },
   "source": [
    "# 6."
   ]
  },
  {
   "cell_type": "markdown",
   "id": "40c6dce2-15a3-42dd-b8d6-5018424eb027",
   "metadata": {},
   "source": [
    "1. If my question has to do with understanding what a particular piece of code does, the chatbot is quick to help. Because it can effectively simplify the code and make it easier to understand.\n",
    "\n",
    "2. I do not think so. Using ChatBot is a easy way to use those difficult codes.\n",
    "\n",
    "3. ChatBot can be used as an aid to understanding code, but it is not a substitute for traditional learning methods. Chatbots should be used to their full advantage, carefully evaluating the advice they provide and, if necessary, seeking other resources to verify their accuracy."
   ]
  },
  {
   "cell_type": "markdown",
   "id": "00b796f1-f786-4dcf-bcac-4fb58a537784",
   "metadata": {
    "jp-MarkdownHeadingCollapsed": true
   },
   "source": [
    "# 7."
   ]
  },
  {
   "cell_type": "markdown",
   "id": "14d6b7ac-86d1-4cd3-a2ef-9d09289d4340",
   "metadata": {},
   "source": [
    "Since taking the statistics course, I have gained a deeper understanding of Chatbots. At first, I had a relatively limited understanding of these tools, seeing them mainly as simple question and answer systems that provided instant feedback and answers to questions. However, as I progressed through the course, especially when studying coding, statistics, and data science, I began to realize the important role they play in the learning process. It can quickly explain complex concepts and can also help optimize code structure."
   ]
  },
  {
   "cell_type": "markdown",
   "id": "982e5c1a-6ecf-4c06-8dd8-b595e6fd553d",
   "metadata": {
    "jp-MarkdownHeadingCollapsed": true
   },
   "source": [
    "# 8."
   ]
  },
  {
   "cell_type": "markdown",
   "id": "7bcb947c-fbf3-426f-af1a-287d7ffe15c7",
   "metadata": {},
   "source": [
    "The ability to learn and adapt: Today's world is changing rapidly and technology is evolving rapidly. Having a strong learning ability and the ability to quickly adapt to new environments, tools and concepts is crucial and will enable you to stay ahead of the curve and seize emerging opportunities throughout your career.\n",
    "\n",
    "Communication: Data science often involves interdisciplinary teamwork. Effective communication is essential to articulate your findings, communicate with technical and non-technical audiences, and foster collaboration.\n",
    "\n",
    "Coding: Coding is the foundation of data science, allowing you to process, analyze, and visualize data. Proficiency in languages such as Python is essential for data scientists to perform data manipulation, build models, and implement algorithms.\n",
    "\n",
    "Statistics and data analysis: These skills enable you to extract meaningful insights from data. A solid foundation in statistics is essential for understanding statistical methods, designing experiments, and interpreting the results of data analysis. Similarly, data analytics skills enable you to identify patterns, trends, and anomalies in data to inform data-driven decisions."
   ]
  },
  {
   "cell_type": "markdown",
   "id": "89454a53-e41d-47fe-be2a-01eebc8eb5c5",
   "metadata": {
    "jp-MarkdownHeadingCollapsed": true
   },
   "source": [
    "# 9."
   ]
  },
  {
   "cell_type": "markdown",
   "id": "9c24fe97-6808-47a3-9747-b2d74bcafec3",
   "metadata": {},
   "source": [
    "Yes"
   ]
  },
  {
   "cell_type": "markdown",
   "id": "b0f37e08-d193-4b3c-9188-f05a378d7025",
   "metadata": {
    "jp-MarkdownHeadingCollapsed": true
   },
   "source": [
    "# STA130 Custom NBLM Chatbot conversation summary"
   ]
  },
  {
   "cell_type": "markdown",
   "id": "0bba2eb9-e4a8-47a7-970c-f5ef651a2d44",
   "metadata": {},
   "source": [
    "## Conversation Summary\r\n",
    "\r\n",
    "You shared two pieces of Markovian chatbot extension code in the conversation and asked me about my understanding of the code, specifically about the extension functionality in the code, as well as an explanation of the details of the code.\r\n",
    "\r\n",
    "I confirmed my understanding of the extended functionality in the code, including:\r\n",
    "\r\n",
    "* **Making role-specific Markov chains:** The code in extension #2 implements the ability to generate Markov chains by role. It recognizes roles by `characters` objects and uses nested dictionaries `word_used2C` and `next_word2C` to store the frequency of words spoken and the frequency of subsequent words for each role, respectively.\r\n",
    "* **Using binary phrase dependencies:** Extensions #1 and #2 both use binary phrases (bigrams) to build Markov chains. This means that the chatbot will not only consider the previous word, but also the combination of the previous two words when predicting the next word.\r\n",
    "\r\n",
    "I've also provided detailed explanations of both pieces of code, including descriptions of important variables and functions used in the code, as well as a step-by-step analysis of how the code works.\r\n",
    "\r\n",
    "**Here are the specific questions you asked in the dialog and my answers:**\r\n",
    "\r\n",
    "* **You: “I have some extended code that I can show you ”**\r\n",
    "\r\n",
    "    Me: I can't understand the meaning of “extension code” due to lack of context, please provide more information.\r\n",
    "***You: provided two Markovian chatbot extensions\r\n",
    "\r\n",
    "    Me: I understand that you want me to review the code you provided. I have analyzed the code and explained the functionality of the code, as well as the two extensions implemented in the code: making actor-specific Markov chains and using binary phrase dependencies.\r\n",
    "* **You: “Do you understand the extended functionality implemented in the code, i.e. making character-specific Markov chains, using bigram (not just the previous word) dependencies ......” **\r\n",
    "\r\n",
    "    Me: I confirmed my understanding of the extension features in the code and explained both again.\r\n",
    "* **You: “Could you please explain the details of the code wherever I need help understanding what the code does and how it works ”** *\r\n",
    "\r\n",
    "    Me: I provided a detailed explanation of both pieces of code, including descriptions of important variables and functions used in the code and a step-by-step analysis of how the code works.\r\n",
    "\r\n",
    "Overall, our conversation centered around the two pieces of Markovian chatbot extension code you provided. I did my best to understand your questions and provided information that I found useful. "
   ]
  },
  {
   "cell_type": "markdown",
   "id": "d1f18ae0-0c4b-453d-a0b3-68f92dd423f5",
   "metadata": {},
   "source": [
    "You would like to know how quickly the chatbot provided help with the above problem, and if it did. You would also like to know whether interacting with the chatbot to try to solve the problem was frustrating or unhelpful, and if so, how frustrating or unhelpful it was. Finally, you would like to make an overall assessment of the usefulness of chatbots as a tool to help you understand your code, based on your experiences to date (including, for example, using chatbots to troubleshoot coding errors in previous assignments).\r\n",
    "\r\n",
    "While the source does not directly state how effective chatbots are at answering your specific questions, it does provide some advantages and disadvantages associated with chatbots that you can use as a basis for evaluating their usefulness. \r\n",
    "\r\n",
    "In your second query, you wanted to understand the importance of the ability to learn and adapt, communication skills, coding skills, and statistical and data analysis skills in today's world, particularly in terms of career opportunities (especially in the data science industry). You also asked if it is possible to become a statistician or data scientist without coding or data analysis experience, and how chatbots can be used to identify the most valuable skills in the careers you are interested in.\r\n",
    "\r\n",
    "The sources indicate that coding, statistics, and data analysis are essential skills in the field of data science. However, they also emphasize the importance of learning and adaptability, as well as communication skills. These “soft skills” are essential for keeping up with changing trends and technologies in the data science field, as well as for effectively collaborating and sharing insights with others. \r\n",
    "\r\n",
    "In order to fully address your inquiry, you will need to interact with a chatbot for career exploration discussions. Sources are not a substitute for chatbots, as they cannot provide insights relevant to the conversations conducted by the chatbot itself."
   ]
  }
 ],
 "metadata": {
  "kernelspec": {
   "display_name": "Python 3 (ipykernel)",
   "language": "python",
   "name": "python3"
  },
  "language_info": {
   "codemirror_mode": {
    "name": "ipython",
    "version": 3
   },
   "file_extension": ".py",
   "mimetype": "text/x-python",
   "name": "python",
   "nbconvert_exporter": "python",
   "pygments_lexer": "ipython3",
   "version": "3.11.6"
  }
 },
 "nbformat": 4,
 "nbformat_minor": 5
}
